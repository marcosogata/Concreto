{
 "cells": [
  {
   "cell_type": "markdown",
   "metadata": {},
   "source": [
    "# Dimensionamento à Flexão Simples\n",
    "\n",
    "Este capítulo tem por objetivo mostrar os princípios de dimensionamento de um elemento de concreto armado sujeito à flexão simples. Ele está dividido nos seguintes itens:   \n",
    "[1. Estádios de Flexão](#section_1)   \n",
    "[2. Domínios de Deformação](#section_2)   \n",
    "[3. Hipóteses de Cálculo](#section_3)   \n",
    "[4. Armadura mínima](#section_4)   \n",
    "[5. Armadura simples](section_5)   \n",
    "[6. Armadura dupla](section_6)\n",
    "\n",
    "---\n",
    "_Eng. Marcos Wilson Ogata._ [_ORCID_](https://orcid.org/0000-0003-3888-2814)   \n",
    "_Porto Alegre, RS, Brasil_"
   ]
  },
  {
   "cell_type": "code",
   "execution_count": 2,
   "metadata": {},
   "outputs": [],
   "source": [
    "# Importando as bibliotecas necessárias para esta seção\n",
    "# Esta célula deve ser executada com Shift+Enter antes de executar qualquer comando Python\n",
    "\n",
    "import numpy as np\n",
    "import matplotlib.pyplot as plt"
   ]
  },
  {
   "cell_type": "markdown",
   "metadata": {},
   "source": [
    "## 1. Estádios de Flexão <a name=\"section_1\"></a> \n",
    "A figura abaixo mostra uma seção transversal de uma viga:\n",
    "\n",
    "Ao se submeter uma peça de concreto armado a um ensaio de flexão se verifica que a mesma passa por três etapas, antes da sua ruptura. Plotando os resultados deste ensaio em um diagrama de tensão-deformação pode-se observar os seguintes estádios:\n",
    "* __Estádio 1a__: o concreto tracionado se encontra no regime elástico linear;\n",
    "* __Estádio 1b__: o concreto tracionado se encontra no regime plástico não linear;\n",
    "* __Estádio 2__: o concreto não resiste mais à tração, surgindo fissuras pequenas (capilares) na zona tracionada. Porém na região comprimida o mesmo ainda se encontra no regime elástico linear. \n",
    "* __Estádio 3__: o concreto, além de não resistir mais à tração, se encontra, na zona comprimida, no regime plástico não linear. \n",
    "\n",
    "Em geral os elementos de concreto armado são dimensionados a dois estados limites:\n",
    "* __Estado limite último (ELU)__: ruptura do material ou deformação plástica excessiva. Para melhor aproveitamento destes materiais se dimensiona o elemento para o estádio III, em que se aproveita a máxima capacidade resistente possível, tanto do concreto como do aço.\n",
    "\n",
    "* __Estado limite de serviço (ELS)__: ocorrem enquanto a estrutura está sendo utilizada pelos usuários, o que pode gerar efeitos como desconforto psicológico. Este estado pode ocorrer de diversas formas, dentre elas:   \n",
    "    a) Abertura de fissuras;   \n",
    "    b) Deformações excessivas;   \n",
    "    c) Vibrações excessivas.  \n",
    "\n",
    "No ELS é mais utilizado para verificações e ajustes do modelo estrutural adotado, quando os estados não são atendidos. Para o cálculo correto se fazem estas verificações nos estádios I e II.    \n",
    "    "
   ]
  },
  {
   "cell_type": "markdown",
   "metadata": {},
   "source": [
    "##\n",
    "Primeiramente é calculada a posição da linha neutra na seção de concreto. \n",
    "$$ A_s = \\dfrac{\\alpha \\cdot b \\cdot f_c \\cdot \\lambda \\cdot x}{f_{yd}} $$"
   ]
  },
  {
   "cell_type": "code",
   "execution_count": null,
   "metadata": {},
   "outputs": [],
   "source": []
  }
 ],
 "metadata": {
  "kernelspec": {
   "display_name": "Python 3",
   "language": "python",
   "name": "python3"
  },
  "language_info": {
   "codemirror_mode": {
    "name": "ipython",
    "version": 3
   },
   "file_extension": ".py",
   "mimetype": "text/x-python",
   "name": "python",
   "nbconvert_exporter": "python",
   "pygments_lexer": "ipython3",
   "version": "3.7.4"
  }
 },
 "nbformat": 4,
 "nbformat_minor": 2
}
